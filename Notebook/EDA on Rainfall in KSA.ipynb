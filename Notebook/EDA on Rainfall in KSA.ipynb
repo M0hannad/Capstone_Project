{
 "cells": [
  {
   "cell_type": "markdown",
   "id": "0ba25126",
   "metadata": {
    "papermill": {
     "duration": 0.018903,
     "end_time": "2022-01-11T07:49:10.039454",
     "exception": false,
     "start_time": "2022-01-11T07:49:10.020551",
     "status": "completed"
    },
    "tags": []
   },
   "source": [
    "# Load and Read the Dataset"
   ]
  },
  {
   "cell_type": "code",
   "execution_count": 1,
   "id": "fbe7d204",
   "metadata": {
    "execution": {
     "iopub.execute_input": "2022-01-11T07:49:10.081772Z",
     "iopub.status.busy": "2022-01-11T07:49:10.079972Z",
     "iopub.status.idle": "2022-01-11T07:49:11.136607Z",
     "shell.execute_reply": "2022-01-11T07:49:11.135936Z",
     "shell.execute_reply.started": "2022-01-11T07:13:07.363833Z"
    },
    "papermill": {
     "duration": 1.079018,
     "end_time": "2022-01-11T07:49:11.136793",
     "exception": false,
     "start_time": "2022-01-11T07:49:10.057775",
     "status": "completed"
    },
    "tags": []
   },
   "outputs": [],
   "source": [
    "# load required libraries\n",
    "\n",
    "import math\n",
    "import pandas as pd\n",
    "import numpy as np\n",
    "import seaborn as sns\n",
    "import matplotlib.pyplot as plt\n",
    "import datetime\n",
    " \n",
    "    "
   ]
  },
  {
   "cell_type": "code",
   "execution_count": 2,
   "id": "a7ee7d4d",
   "metadata": {
    "execution": {
     "iopub.execute_input": "2022-01-11T07:49:11.177956Z",
     "iopub.status.busy": "2022-01-11T07:49:11.177236Z",
     "iopub.status.idle": "2022-01-11T07:49:11.196045Z",
     "shell.execute_reply": "2022-01-11T07:49:11.196944Z",
     "shell.execute_reply.started": "2022-01-11T07:13:07.612711Z"
    },
    "papermill": {
     "duration": 0.042749,
     "end_time": "2022-01-11T07:49:11.197186",
     "exception": false,
     "start_time": "2022-01-11T07:49:11.154437",
     "status": "completed"
    },
    "tags": []
   },
   "outputs": [
    {
     "name": "stdout",
     "output_type": "stream",
     "text": [
      "shape: (3476, 4)\n"
     ]
    }
   ],
   "source": [
    "# Read the data set \n",
    "\n",
    "df = pd.read_csv('../input/rainfall-in-saudi-arabia/total-rain-fall-in-mm.csv', sep = ';')\n",
    "\n",
    "df.shape # To view the number of rows and columns in the dataset\n",
    "print('shape:', df.shape)"
   ]
  },
  {
   "cell_type": "code",
   "execution_count": 3,
   "id": "7d8177ce",
   "metadata": {
    "execution": {
     "iopub.execute_input": "2022-01-11T07:49:11.260171Z",
     "iopub.status.busy": "2022-01-11T07:49:11.259431Z",
     "iopub.status.idle": "2022-01-11T07:49:11.272523Z",
     "shell.execute_reply": "2022-01-11T07:49:11.273054Z",
     "shell.execute_reply.started": "2022-01-11T07:13:07.832522Z"
    },
    "papermill": {
     "duration": 0.055883,
     "end_time": "2022-01-11T07:49:11.273261",
     "exception": false,
     "start_time": "2022-01-11T07:49:11.217378",
     "status": "completed"
    },
    "tags": []
   },
   "outputs": [
    {
     "name": "stdout",
     "output_type": "stream",
     "text": [
      "<class 'pandas.core.frame.DataFrame'>\n",
      "RangeIndex: 3476 entries, 0 to 3475\n",
      "Data columns (total 4 columns):\n",
      " #   Column               Non-Null Count  Dtype  \n",
      "---  ------               --------------  -----  \n",
      " 0   Year                 3476 non-null   int64  \n",
      " 1   Month                3476 non-null   object \n",
      " 2   Region               3476 non-null   object \n",
      " 3   Total Rainfall (mm)  3476 non-null   float64\n",
      "dtypes: float64(1), int64(1), object(2)\n",
      "memory usage: 108.8+ KB\n"
     ]
    }
   ],
   "source": [
    "# Check the null values and datatype for the variables\n",
    "df.info() "
   ]
  },
  {
   "cell_type": "markdown",
   "id": "e443294c",
   "metadata": {
    "papermill": {
     "duration": 0.018052,
     "end_time": "2022-01-11T07:49:11.309926",
     "exception": false,
     "start_time": "2022-01-11T07:49:11.291874",
     "status": "completed"
    },
    "tags": []
   },
   "source": [
    "# Clean and Prepare"
   ]
  },
  {
   "cell_type": "code",
   "execution_count": 4,
   "id": "c98f84f1",
   "metadata": {
    "execution": {
     "iopub.execute_input": "2022-01-11T07:49:11.354364Z",
     "iopub.status.busy": "2022-01-11T07:49:11.353628Z",
     "iopub.status.idle": "2022-01-11T07:49:11.368883Z",
     "shell.execute_reply": "2022-01-11T07:49:11.368330Z",
     "shell.execute_reply.started": "2022-01-11T07:13:08.200299Z"
    },
    "papermill": {
     "duration": 0.040288,
     "end_time": "2022-01-11T07:49:11.369025",
     "exception": false,
     "start_time": "2022-01-11T07:49:11.328737",
     "status": "completed"
    },
    "tags": []
   },
   "outputs": [
    {
     "data": {
      "text/html": [
       "<div>\n",
       "<style scoped>\n",
       "    .dataframe tbody tr th:only-of-type {\n",
       "        vertical-align: middle;\n",
       "    }\n",
       "\n",
       "    .dataframe tbody tr th {\n",
       "        vertical-align: top;\n",
       "    }\n",
       "\n",
       "    .dataframe thead th {\n",
       "        text-align: right;\n",
       "    }\n",
       "</style>\n",
       "<table border=\"1\" class=\"dataframe\">\n",
       "  <thead>\n",
       "    <tr style=\"text-align: right;\">\n",
       "      <th></th>\n",
       "      <th>Year</th>\n",
       "      <th>Month</th>\n",
       "      <th>Region</th>\n",
       "      <th>Total Rainfall (mm)</th>\n",
       "    </tr>\n",
       "  </thead>\n",
       "  <tbody>\n",
       "    <tr>\n",
       "      <th>0</th>\n",
       "      <td>2009</td>\n",
       "      <td>January</td>\n",
       "      <td>Al-Ahsa</td>\n",
       "      <td>0.0</td>\n",
       "    </tr>\n",
       "    <tr>\n",
       "      <th>1</th>\n",
       "      <td>2009</td>\n",
       "      <td>January</td>\n",
       "      <td>Yenbo</td>\n",
       "      <td>0.0</td>\n",
       "    </tr>\n",
       "    <tr>\n",
       "      <th>2</th>\n",
       "      <td>2009</td>\n",
       "      <td>January</td>\n",
       "      <td>Abha</td>\n",
       "      <td>9.5</td>\n",
       "    </tr>\n",
       "    <tr>\n",
       "      <th>3</th>\n",
       "      <td>2009</td>\n",
       "      <td>January</td>\n",
       "      <td>Guriat</td>\n",
       "      <td>0.0</td>\n",
       "    </tr>\n",
       "    <tr>\n",
       "      <th>4</th>\n",
       "      <td>2009</td>\n",
       "      <td>January</td>\n",
       "      <td>Turaif</td>\n",
       "      <td>1.0</td>\n",
       "    </tr>\n",
       "  </tbody>\n",
       "</table>\n",
       "</div>"
      ],
      "text/plain": [
       "   Year    Month   Region  Total Rainfall (mm)\n",
       "0  2009  January  Al-Ahsa                  0.0\n",
       "1  2009  January    Yenbo                  0.0\n",
       "2  2009  January     Abha                  9.5\n",
       "3  2009  January   Guriat                  0.0\n",
       "4  2009  January   Turaif                  1.0"
      ]
     },
     "execution_count": 4,
     "metadata": {},
     "output_type": "execute_result"
    }
   ],
   "source": [
    "df.head()"
   ]
  },
  {
   "cell_type": "code",
   "execution_count": 5,
   "id": "4c9bc6cd",
   "metadata": {
    "execution": {
     "iopub.execute_input": "2022-01-11T07:49:11.414321Z",
     "iopub.status.busy": "2022-01-11T07:49:11.413587Z",
     "iopub.status.idle": "2022-01-11T07:49:11.428040Z",
     "shell.execute_reply": "2022-01-11T07:49:11.428678Z",
     "shell.execute_reply.started": "2022-01-11T07:13:08.360104Z"
    },
    "papermill": {
     "duration": 0.040996,
     "end_time": "2022-01-11T07:49:11.428848",
     "exception": false,
     "start_time": "2022-01-11T07:49:11.387852",
     "status": "completed"
    },
    "tags": []
   },
   "outputs": [
    {
     "data": {
      "text/html": [
       "<div>\n",
       "<style scoped>\n",
       "    .dataframe tbody tr th:only-of-type {\n",
       "        vertical-align: middle;\n",
       "    }\n",
       "\n",
       "    .dataframe tbody tr th {\n",
       "        vertical-align: top;\n",
       "    }\n",
       "\n",
       "    .dataframe thead th {\n",
       "        text-align: right;\n",
       "    }\n",
       "</style>\n",
       "<table border=\"1\" class=\"dataframe\">\n",
       "  <thead>\n",
       "    <tr style=\"text-align: right;\">\n",
       "      <th></th>\n",
       "      <th>Year</th>\n",
       "      <th>Month</th>\n",
       "      <th>Region</th>\n",
       "      <th>Total Rainfall (mm)</th>\n",
       "    </tr>\n",
       "  </thead>\n",
       "  <tbody>\n",
       "    <tr>\n",
       "      <th>0</th>\n",
       "      <td>2009</td>\n",
       "      <td>January</td>\n",
       "      <td>Al-Ahsa</td>\n",
       "      <td>0.0</td>\n",
       "    </tr>\n",
       "    <tr>\n",
       "      <th>1</th>\n",
       "      <td>2009</td>\n",
       "      <td>January</td>\n",
       "      <td>Yenbo</td>\n",
       "      <td>0.0</td>\n",
       "    </tr>\n",
       "    <tr>\n",
       "      <th>2</th>\n",
       "      <td>2009</td>\n",
       "      <td>January</td>\n",
       "      <td>Abha</td>\n",
       "      <td>9.5</td>\n",
       "    </tr>\n",
       "    <tr>\n",
       "      <th>3</th>\n",
       "      <td>2009</td>\n",
       "      <td>January</td>\n",
       "      <td>Guriat</td>\n",
       "      <td>0.0</td>\n",
       "    </tr>\n",
       "    <tr>\n",
       "      <th>4</th>\n",
       "      <td>2009</td>\n",
       "      <td>January</td>\n",
       "      <td>Turaif</td>\n",
       "      <td>1.0</td>\n",
       "    </tr>\n",
       "    <tr>\n",
       "      <th>...</th>\n",
       "      <td>...</td>\n",
       "      <td>...</td>\n",
       "      <td>...</td>\n",
       "      <td>...</td>\n",
       "    </tr>\n",
       "    <tr>\n",
       "      <th>3471</th>\n",
       "      <td>2019</td>\n",
       "      <td>November</td>\n",
       "      <td>Taif</td>\n",
       "      <td>49.3</td>\n",
       "    </tr>\n",
       "    <tr>\n",
       "      <th>3472</th>\n",
       "      <td>2019</td>\n",
       "      <td>November</td>\n",
       "      <td>Najran</td>\n",
       "      <td>9.9</td>\n",
       "    </tr>\n",
       "    <tr>\n",
       "      <th>3473</th>\n",
       "      <td>2019</td>\n",
       "      <td>November</td>\n",
       "      <td>Sharorah</td>\n",
       "      <td>9.9</td>\n",
       "    </tr>\n",
       "    <tr>\n",
       "      <th>3474</th>\n",
       "      <td>2019</td>\n",
       "      <td>November</td>\n",
       "      <td>Riyadh New</td>\n",
       "      <td>16.2</td>\n",
       "    </tr>\n",
       "    <tr>\n",
       "      <th>3475</th>\n",
       "      <td>2019</td>\n",
       "      <td>December</td>\n",
       "      <td>Abha</td>\n",
       "      <td>0.0</td>\n",
       "    </tr>\n",
       "  </tbody>\n",
       "</table>\n",
       "<p>3440 rows × 4 columns</p>\n",
       "</div>"
      ],
      "text/plain": [
       "      Year     Month      Region  Total Rainfall (mm)\n",
       "0     2009   January     Al-Ahsa                  0.0\n",
       "1     2009   January       Yenbo                  0.0\n",
       "2     2009   January        Abha                  9.5\n",
       "3     2009   January      Guriat                  0.0\n",
       "4     2009   January      Turaif                  1.0\n",
       "...    ...       ...         ...                  ...\n",
       "3471  2019  November        Taif                 49.3\n",
       "3472  2019  November      Najran                  9.9\n",
       "3473  2019  November    Sharorah                  9.9\n",
       "3474  2019  November  Riyadh New                 16.2\n",
       "3475  2019  December        Abha                  0.0\n",
       "\n",
       "[3440 rows x 4 columns]"
      ]
     },
     "execution_count": 5,
     "metadata": {},
     "output_type": "execute_result"
    }
   ],
   "source": [
    "# There is two types of records for Riyadh city (Riyadh New & Riyadh Old). so I will remove values for 'Riyadh Old'\n",
    "\n",
    "df['Region'].value_counts()\n",
    "\n",
    "df.drop(df.index[df['Region'] == 'Riyadh Old'], inplace = True)\n",
    "\n",
    "df\n"
   ]
  },
  {
   "cell_type": "code",
   "execution_count": 6,
   "id": "628ae81d",
   "metadata": {
    "execution": {
     "iopub.execute_input": "2022-01-11T07:49:11.470615Z",
     "iopub.status.busy": "2022-01-11T07:49:11.469900Z",
     "iopub.status.idle": "2022-01-11T07:49:11.506646Z",
     "shell.execute_reply": "2022-01-11T07:49:11.507110Z",
     "shell.execute_reply.started": "2022-01-11T07:13:08.760076Z"
    },
    "papermill": {
     "duration": 0.059232,
     "end_time": "2022-01-11T07:49:11.507321",
     "exception": false,
     "start_time": "2022-01-11T07:49:11.448089",
     "status": "completed"
    },
    "tags": []
   },
   "outputs": [
    {
     "data": {
      "text/html": [
       "<div>\n",
       "<style scoped>\n",
       "    .dataframe tbody tr th:only-of-type {\n",
       "        vertical-align: middle;\n",
       "    }\n",
       "\n",
       "    .dataframe tbody tr th {\n",
       "        vertical-align: top;\n",
       "    }\n",
       "\n",
       "    .dataframe thead th {\n",
       "        text-align: right;\n",
       "    }\n",
       "</style>\n",
       "<table border=\"1\" class=\"dataframe\">\n",
       "  <thead>\n",
       "    <tr style=\"text-align: right;\">\n",
       "      <th></th>\n",
       "      <th>Year</th>\n",
       "      <th>Month</th>\n",
       "      <th>Day</th>\n",
       "      <th>Date</th>\n",
       "      <th>Region</th>\n",
       "      <th>Total Rainfall (mm)</th>\n",
       "    </tr>\n",
       "  </thead>\n",
       "  <tbody>\n",
       "    <tr>\n",
       "      <th>0</th>\n",
       "      <td>2009</td>\n",
       "      <td>1</td>\n",
       "      <td>01</td>\n",
       "      <td>2009-01-01</td>\n",
       "      <td>Al-Ahsa</td>\n",
       "      <td>0.0</td>\n",
       "    </tr>\n",
       "    <tr>\n",
       "      <th>1</th>\n",
       "      <td>2009</td>\n",
       "      <td>1</td>\n",
       "      <td>01</td>\n",
       "      <td>2009-01-01</td>\n",
       "      <td>Yenbo</td>\n",
       "      <td>0.0</td>\n",
       "    </tr>\n",
       "    <tr>\n",
       "      <th>2</th>\n",
       "      <td>2009</td>\n",
       "      <td>1</td>\n",
       "      <td>01</td>\n",
       "      <td>2009-01-01</td>\n",
       "      <td>Abha</td>\n",
       "      <td>9.5</td>\n",
       "    </tr>\n",
       "    <tr>\n",
       "      <th>3</th>\n",
       "      <td>2009</td>\n",
       "      <td>1</td>\n",
       "      <td>01</td>\n",
       "      <td>2009-01-01</td>\n",
       "      <td>Guriat</td>\n",
       "      <td>0.0</td>\n",
       "    </tr>\n",
       "    <tr>\n",
       "      <th>4</th>\n",
       "      <td>2009</td>\n",
       "      <td>1</td>\n",
       "      <td>01</td>\n",
       "      <td>2009-01-01</td>\n",
       "      <td>Turaif</td>\n",
       "      <td>1.0</td>\n",
       "    </tr>\n",
       "    <tr>\n",
       "      <th>...</th>\n",
       "      <td>...</td>\n",
       "      <td>...</td>\n",
       "      <td>...</td>\n",
       "      <td>...</td>\n",
       "      <td>...</td>\n",
       "      <td>...</td>\n",
       "    </tr>\n",
       "    <tr>\n",
       "      <th>3471</th>\n",
       "      <td>2019</td>\n",
       "      <td>11</td>\n",
       "      <td>01</td>\n",
       "      <td>2019-11-01</td>\n",
       "      <td>Taif</td>\n",
       "      <td>49.3</td>\n",
       "    </tr>\n",
       "    <tr>\n",
       "      <th>3472</th>\n",
       "      <td>2019</td>\n",
       "      <td>11</td>\n",
       "      <td>01</td>\n",
       "      <td>2019-11-01</td>\n",
       "      <td>Najran</td>\n",
       "      <td>9.9</td>\n",
       "    </tr>\n",
       "    <tr>\n",
       "      <th>3473</th>\n",
       "      <td>2019</td>\n",
       "      <td>11</td>\n",
       "      <td>01</td>\n",
       "      <td>2019-11-01</td>\n",
       "      <td>Sharorah</td>\n",
       "      <td>9.9</td>\n",
       "    </tr>\n",
       "    <tr>\n",
       "      <th>3474</th>\n",
       "      <td>2019</td>\n",
       "      <td>11</td>\n",
       "      <td>01</td>\n",
       "      <td>2019-11-01</td>\n",
       "      <td>Riyadh New</td>\n",
       "      <td>16.2</td>\n",
       "    </tr>\n",
       "    <tr>\n",
       "      <th>3475</th>\n",
       "      <td>2019</td>\n",
       "      <td>12</td>\n",
       "      <td>01</td>\n",
       "      <td>2019-12-01</td>\n",
       "      <td>Abha</td>\n",
       "      <td>0.0</td>\n",
       "    </tr>\n",
       "  </tbody>\n",
       "</table>\n",
       "<p>3440 rows × 6 columns</p>\n",
       "</div>"
      ],
      "text/plain": [
       "      Year  Month Day       Date      Region  Total Rainfall (mm)\n",
       "0     2009      1  01 2009-01-01     Al-Ahsa                  0.0\n",
       "1     2009      1  01 2009-01-01       Yenbo                  0.0\n",
       "2     2009      1  01 2009-01-01        Abha                  9.5\n",
       "3     2009      1  01 2009-01-01      Guriat                  0.0\n",
       "4     2009      1  01 2009-01-01      Turaif                  1.0\n",
       "...    ...    ...  ..        ...         ...                  ...\n",
       "3471  2019     11  01 2019-11-01        Taif                 49.3\n",
       "3472  2019     11  01 2019-11-01      Najran                  9.9\n",
       "3473  2019     11  01 2019-11-01    Sharorah                  9.9\n",
       "3474  2019     11  01 2019-11-01  Riyadh New                 16.2\n",
       "3475  2019     12  01 2019-12-01        Abha                  0.0\n",
       "\n",
       "[3440 rows x 6 columns]"
      ]
     },
     "execution_count": 6,
     "metadata": {},
     "output_type": "execute_result"
    }
   ],
   "source": [
    "# Change the month from text to number in order to create the column 'Date'\n",
    "df.insert(2, 'Day', '01')\n",
    "df = df.replace({'Month':{'January':1, 'February':2 , 'March':3, 'April':4, 'May':5, 'June':6, 'July':7, 'August':8, 'September':9, 'October':10, 'November':11, 'December': 12}})                                                                                         \n",
    "\n",
    "# Adding a new column called 'Date'\n",
    "date_format = pd.to_datetime(df[['Year', 'Month', 'Day']])\n",
    "df.insert(3, 'Date', date_format)\n",
    "\n",
    "df"
   ]
  },
  {
   "cell_type": "code",
   "execution_count": 7,
   "id": "12e53cd4",
   "metadata": {
    "execution": {
     "iopub.execute_input": "2022-01-11T07:49:11.570507Z",
     "iopub.status.busy": "2022-01-11T07:49:11.569631Z",
     "iopub.status.idle": "2022-01-11T07:49:11.573099Z",
     "shell.execute_reply": "2022-01-11T07:49:11.573646Z",
     "shell.execute_reply.started": "2022-01-11T07:13:09.14051Z"
    },
    "papermill": {
     "duration": 0.045952,
     "end_time": "2022-01-11T07:49:11.573815",
     "exception": false,
     "start_time": "2022-01-11T07:49:11.527863",
     "status": "completed"
    },
    "tags": []
   },
   "outputs": [
    {
     "data": {
      "text/html": [
       "<div>\n",
       "<style scoped>\n",
       "    .dataframe tbody tr th:only-of-type {\n",
       "        vertical-align: middle;\n",
       "    }\n",
       "\n",
       "    .dataframe tbody tr th {\n",
       "        vertical-align: top;\n",
       "    }\n",
       "\n",
       "    .dataframe thead th {\n",
       "        text-align: right;\n",
       "    }\n",
       "</style>\n",
       "<table border=\"1\" class=\"dataframe\">\n",
       "  <thead>\n",
       "    <tr style=\"text-align: right;\">\n",
       "      <th></th>\n",
       "      <th>Year</th>\n",
       "      <th>Month</th>\n",
       "      <th>Day</th>\n",
       "      <th>Date</th>\n",
       "      <th>Region</th>\n",
       "      <th>Rainfall</th>\n",
       "    </tr>\n",
       "  </thead>\n",
       "  <tbody>\n",
       "    <tr>\n",
       "      <th>0</th>\n",
       "      <td>2009</td>\n",
       "      <td>1</td>\n",
       "      <td>01</td>\n",
       "      <td>2009-01-01</td>\n",
       "      <td>Al-Ahsa</td>\n",
       "      <td>0.0</td>\n",
       "    </tr>\n",
       "    <tr>\n",
       "      <th>1</th>\n",
       "      <td>2009</td>\n",
       "      <td>1</td>\n",
       "      <td>01</td>\n",
       "      <td>2009-01-01</td>\n",
       "      <td>Yenbo</td>\n",
       "      <td>0.0</td>\n",
       "    </tr>\n",
       "    <tr>\n",
       "      <th>2</th>\n",
       "      <td>2009</td>\n",
       "      <td>1</td>\n",
       "      <td>01</td>\n",
       "      <td>2009-01-01</td>\n",
       "      <td>Abha</td>\n",
       "      <td>9.5</td>\n",
       "    </tr>\n",
       "    <tr>\n",
       "      <th>3</th>\n",
       "      <td>2009</td>\n",
       "      <td>1</td>\n",
       "      <td>01</td>\n",
       "      <td>2009-01-01</td>\n",
       "      <td>Guriat</td>\n",
       "      <td>0.0</td>\n",
       "    </tr>\n",
       "    <tr>\n",
       "      <th>4</th>\n",
       "      <td>2009</td>\n",
       "      <td>1</td>\n",
       "      <td>01</td>\n",
       "      <td>2009-01-01</td>\n",
       "      <td>Turaif</td>\n",
       "      <td>1.0</td>\n",
       "    </tr>\n",
       "    <tr>\n",
       "      <th>...</th>\n",
       "      <td>...</td>\n",
       "      <td>...</td>\n",
       "      <td>...</td>\n",
       "      <td>...</td>\n",
       "      <td>...</td>\n",
       "      <td>...</td>\n",
       "    </tr>\n",
       "    <tr>\n",
       "      <th>3471</th>\n",
       "      <td>2019</td>\n",
       "      <td>11</td>\n",
       "      <td>01</td>\n",
       "      <td>2019-11-01</td>\n",
       "      <td>Taif</td>\n",
       "      <td>49.3</td>\n",
       "    </tr>\n",
       "    <tr>\n",
       "      <th>3472</th>\n",
       "      <td>2019</td>\n",
       "      <td>11</td>\n",
       "      <td>01</td>\n",
       "      <td>2019-11-01</td>\n",
       "      <td>Najran</td>\n",
       "      <td>9.9</td>\n",
       "    </tr>\n",
       "    <tr>\n",
       "      <th>3473</th>\n",
       "      <td>2019</td>\n",
       "      <td>11</td>\n",
       "      <td>01</td>\n",
       "      <td>2019-11-01</td>\n",
       "      <td>Sharorah</td>\n",
       "      <td>9.9</td>\n",
       "    </tr>\n",
       "    <tr>\n",
       "      <th>3474</th>\n",
       "      <td>2019</td>\n",
       "      <td>11</td>\n",
       "      <td>01</td>\n",
       "      <td>2019-11-01</td>\n",
       "      <td>Riyadh</td>\n",
       "      <td>16.2</td>\n",
       "    </tr>\n",
       "    <tr>\n",
       "      <th>3475</th>\n",
       "      <td>2019</td>\n",
       "      <td>12</td>\n",
       "      <td>01</td>\n",
       "      <td>2019-12-01</td>\n",
       "      <td>Abha</td>\n",
       "      <td>0.0</td>\n",
       "    </tr>\n",
       "  </tbody>\n",
       "</table>\n",
       "<p>3440 rows × 6 columns</p>\n",
       "</div>"
      ],
      "text/plain": [
       "      Year  Month Day       Date    Region  Rainfall\n",
       "0     2009      1  01 2009-01-01   Al-Ahsa       0.0\n",
       "1     2009      1  01 2009-01-01     Yenbo       0.0\n",
       "2     2009      1  01 2009-01-01      Abha       9.5\n",
       "3     2009      1  01 2009-01-01    Guriat       0.0\n",
       "4     2009      1  01 2009-01-01    Turaif       1.0\n",
       "...    ...    ...  ..        ...       ...       ...\n",
       "3471  2019     11  01 2019-11-01      Taif      49.3\n",
       "3472  2019     11  01 2019-11-01    Najran       9.9\n",
       "3473  2019     11  01 2019-11-01  Sharorah       9.9\n",
       "3474  2019     11  01 2019-11-01    Riyadh      16.2\n",
       "3475  2019     12  01 2019-12-01      Abha       0.0\n",
       "\n",
       "[3440 rows x 6 columns]"
      ]
     },
     "execution_count": 7,
     "metadata": {},
     "output_type": "execute_result"
    }
   ],
   "source": [
    "# Renaming columns\n",
    "\n",
    "df['Region'] = df['Region'].replace(['Riyadh New'],'Riyadh')\n",
    "df['Region'] = df['Region'].replace(['Jeddah KAIA'],'Jeddah')\n",
    "\n",
    "df.rename(columns={'Total Rainfall (mm)': 'Rainfall'}, inplace=True)\n",
    "\n",
    "df"
   ]
  },
  {
   "cell_type": "code",
   "execution_count": 8,
   "id": "e4b7c6f3",
   "metadata": {
    "execution": {
     "iopub.execute_input": "2022-01-11T07:49:11.623911Z",
     "iopub.status.busy": "2022-01-11T07:49:11.623236Z",
     "iopub.status.idle": "2022-01-11T07:49:11.625695Z",
     "shell.execute_reply": "2022-01-11T07:49:11.626240Z",
     "shell.execute_reply.started": "2022-01-11T07:13:09.371962Z"
    },
    "papermill": {
     "duration": 0.032028,
     "end_time": "2022-01-11T07:49:11.626412",
     "exception": false,
     "start_time": "2022-01-11T07:49:11.594384",
     "status": "completed"
    },
    "tags": []
   },
   "outputs": [
    {
     "data": {
      "text/plain": [
       "Year        0\n",
       "Month       0\n",
       "Day         0\n",
       "Date        0\n",
       "Region      0\n",
       "Rainfall    0\n",
       "dtype: int64"
      ]
     },
     "execution_count": 8,
     "metadata": {},
     "output_type": "execute_result"
    }
   ],
   "source": [
    "# Check for missing values¶\n",
    "\n",
    "df.isnull().sum()\n"
   ]
  },
  {
   "cell_type": "markdown",
   "id": "90b79563",
   "metadata": {
    "papermill": {
     "duration": 0.020447,
     "end_time": "2022-01-11T07:49:11.669222",
     "exception": false,
     "start_time": "2022-01-11T07:49:11.648775",
     "status": "completed"
    },
    "tags": []
   },
   "source": [
    "# Explore the data"
   ]
  },
  {
   "cell_type": "code",
   "execution_count": 9,
   "id": "77d27494",
   "metadata": {
    "execution": {
     "iopub.execute_input": "2022-01-11T07:49:11.715838Z",
     "iopub.status.busy": "2022-01-11T07:49:11.713911Z",
     "iopub.status.idle": "2022-01-11T07:49:11.727095Z",
     "shell.execute_reply": "2022-01-11T07:49:11.727708Z",
     "shell.execute_reply.started": "2022-01-11T07:13:09.820625Z"
    },
    "papermill": {
     "duration": 0.037556,
     "end_time": "2022-01-11T07:49:11.727876",
     "exception": false,
     "start_time": "2022-01-11T07:49:11.690320",
     "status": "completed"
    },
    "scrolled": true,
    "tags": []
   },
   "outputs": [
    {
     "data": {
      "text/html": [
       "<div>\n",
       "<style scoped>\n",
       "    .dataframe tbody tr th:only-of-type {\n",
       "        vertical-align: middle;\n",
       "    }\n",
       "\n",
       "    .dataframe tbody tr th {\n",
       "        vertical-align: top;\n",
       "    }\n",
       "\n",
       "    .dataframe thead th {\n",
       "        text-align: right;\n",
       "    }\n",
       "</style>\n",
       "<table border=\"1\" class=\"dataframe\">\n",
       "  <thead>\n",
       "    <tr style=\"text-align: right;\">\n",
       "      <th></th>\n",
       "      <th>Year</th>\n",
       "      <th>Month</th>\n",
       "      <th>Day</th>\n",
       "      <th>Date</th>\n",
       "      <th>Region</th>\n",
       "      <th>Rainfall</th>\n",
       "    </tr>\n",
       "  </thead>\n",
       "  <tbody>\n",
       "    <tr>\n",
       "      <th>0</th>\n",
       "      <td>2009</td>\n",
       "      <td>1</td>\n",
       "      <td>01</td>\n",
       "      <td>2009-01-01</td>\n",
       "      <td>Al-Ahsa</td>\n",
       "      <td>0.0</td>\n",
       "    </tr>\n",
       "    <tr>\n",
       "      <th>1</th>\n",
       "      <td>2009</td>\n",
       "      <td>1</td>\n",
       "      <td>01</td>\n",
       "      <td>2009-01-01</td>\n",
       "      <td>Yenbo</td>\n",
       "      <td>0.0</td>\n",
       "    </tr>\n",
       "    <tr>\n",
       "      <th>2</th>\n",
       "      <td>2009</td>\n",
       "      <td>1</td>\n",
       "      <td>01</td>\n",
       "      <td>2009-01-01</td>\n",
       "      <td>Abha</td>\n",
       "      <td>9.5</td>\n",
       "    </tr>\n",
       "    <tr>\n",
       "      <th>3</th>\n",
       "      <td>2009</td>\n",
       "      <td>1</td>\n",
       "      <td>01</td>\n",
       "      <td>2009-01-01</td>\n",
       "      <td>Guriat</td>\n",
       "      <td>0.0</td>\n",
       "    </tr>\n",
       "    <tr>\n",
       "      <th>4</th>\n",
       "      <td>2009</td>\n",
       "      <td>1</td>\n",
       "      <td>01</td>\n",
       "      <td>2009-01-01</td>\n",
       "      <td>Turaif</td>\n",
       "      <td>1.0</td>\n",
       "    </tr>\n",
       "    <tr>\n",
       "      <th>5</th>\n",
       "      <td>2009</td>\n",
       "      <td>1</td>\n",
       "      <td>01</td>\n",
       "      <td>2009-01-01</td>\n",
       "      <td>Jeddah</td>\n",
       "      <td>1.0</td>\n",
       "    </tr>\n",
       "    <tr>\n",
       "      <th>6</th>\n",
       "      <td>2009</td>\n",
       "      <td>2</td>\n",
       "      <td>01</td>\n",
       "      <td>2009-02-01</td>\n",
       "      <td>Khamis Mushait</td>\n",
       "      <td>0.0</td>\n",
       "    </tr>\n",
       "    <tr>\n",
       "      <th>7</th>\n",
       "      <td>2009</td>\n",
       "      <td>2</td>\n",
       "      <td>01</td>\n",
       "      <td>2009-02-01</td>\n",
       "      <td>Madinah</td>\n",
       "      <td>0.0</td>\n",
       "    </tr>\n",
       "    <tr>\n",
       "      <th>8</th>\n",
       "      <td>2009</td>\n",
       "      <td>2</td>\n",
       "      <td>01</td>\n",
       "      <td>2009-02-01</td>\n",
       "      <td>Bisha</td>\n",
       "      <td>2.6</td>\n",
       "    </tr>\n",
       "    <tr>\n",
       "      <th>9</th>\n",
       "      <td>2009</td>\n",
       "      <td>2</td>\n",
       "      <td>01</td>\n",
       "      <td>2009-02-01</td>\n",
       "      <td>Taif</td>\n",
       "      <td>0.0</td>\n",
       "    </tr>\n",
       "    <tr>\n",
       "      <th>10</th>\n",
       "      <td>2009</td>\n",
       "      <td>2</td>\n",
       "      <td>01</td>\n",
       "      <td>2009-02-01</td>\n",
       "      <td>Dhahran</td>\n",
       "      <td>3.0</td>\n",
       "    </tr>\n",
       "    <tr>\n",
       "      <th>11</th>\n",
       "      <td>2009</td>\n",
       "      <td>3</td>\n",
       "      <td>01</td>\n",
       "      <td>2009-03-01</td>\n",
       "      <td>Hail</td>\n",
       "      <td>1.0</td>\n",
       "    </tr>\n",
       "    <tr>\n",
       "      <th>12</th>\n",
       "      <td>2009</td>\n",
       "      <td>3</td>\n",
       "      <td>01</td>\n",
       "      <td>2009-03-01</td>\n",
       "      <td>Hafr Elbatten</td>\n",
       "      <td>10.0</td>\n",
       "    </tr>\n",
       "    <tr>\n",
       "      <th>13</th>\n",
       "      <td>2009</td>\n",
       "      <td>3</td>\n",
       "      <td>01</td>\n",
       "      <td>2009-03-01</td>\n",
       "      <td>Al-Ahsa</td>\n",
       "      <td>8.3</td>\n",
       "    </tr>\n",
       "    <tr>\n",
       "      <th>14</th>\n",
       "      <td>2009</td>\n",
       "      <td>3</td>\n",
       "      <td>01</td>\n",
       "      <td>2009-03-01</td>\n",
       "      <td>Guriat</td>\n",
       "      <td>3.2</td>\n",
       "    </tr>\n",
       "  </tbody>\n",
       "</table>\n",
       "</div>"
      ],
      "text/plain": [
       "    Year  Month Day       Date          Region  Rainfall\n",
       "0   2009      1  01 2009-01-01         Al-Ahsa       0.0\n",
       "1   2009      1  01 2009-01-01           Yenbo       0.0\n",
       "2   2009      1  01 2009-01-01            Abha       9.5\n",
       "3   2009      1  01 2009-01-01          Guriat       0.0\n",
       "4   2009      1  01 2009-01-01          Turaif       1.0\n",
       "5   2009      1  01 2009-01-01          Jeddah       1.0\n",
       "6   2009      2  01 2009-02-01  Khamis Mushait       0.0\n",
       "7   2009      2  01 2009-02-01         Madinah       0.0\n",
       "8   2009      2  01 2009-02-01           Bisha       2.6\n",
       "9   2009      2  01 2009-02-01            Taif       0.0\n",
       "10  2009      2  01 2009-02-01         Dhahran       3.0\n",
       "11  2009      3  01 2009-03-01            Hail       1.0\n",
       "12  2009      3  01 2009-03-01   Hafr Elbatten      10.0\n",
       "13  2009      3  01 2009-03-01         Al-Ahsa       8.3\n",
       "14  2009      3  01 2009-03-01          Guriat       3.2"
      ]
     },
     "execution_count": 9,
     "metadata": {},
     "output_type": "execute_result"
    }
   ],
   "source": [
    "# View the fist 15 rows\n",
    "df.head(15)"
   ]
  },
  {
   "cell_type": "code",
   "execution_count": 10,
   "id": "dd2b9f70",
   "metadata": {
    "execution": {
     "iopub.execute_input": "2022-01-11T07:49:11.780151Z",
     "iopub.status.busy": "2022-01-11T07:49:11.779450Z",
     "iopub.status.idle": "2022-01-11T07:49:11.787563Z",
     "shell.execute_reply": "2022-01-11T07:49:11.788080Z",
     "shell.execute_reply.started": "2022-01-11T07:13:10.008598Z"
    },
    "papermill": {
     "duration": 0.033304,
     "end_time": "2022-01-11T07:49:11.788280",
     "exception": false,
     "start_time": "2022-01-11T07:49:11.754976",
     "status": "completed"
    },
    "scrolled": true,
    "tags": []
   },
   "outputs": [
    {
     "data": {
      "text/plain": [
       "count    3440.000000\n",
       "mean        6.933074\n",
       "std        17.242435\n",
       "min         0.000000\n",
       "25%         0.000000\n",
       "50%         0.001000\n",
       "75%         5.600000\n",
       "max       318.500000\n",
       "Name: Rainfall, dtype: float64"
      ]
     },
     "execution_count": 10,
     "metadata": {},
     "output_type": "execute_result"
    }
   ],
   "source": [
    "# Summary Statistics\n",
    "df['Rainfall'].describe()"
   ]
  },
  {
   "cell_type": "markdown",
   "id": "66475638",
   "metadata": {
    "papermill": {
     "duration": 0.021406,
     "end_time": "2022-01-11T07:49:11.831429",
     "exception": false,
     "start_time": "2022-01-11T07:49:11.810023",
     "status": "completed"
    },
    "tags": []
   },
   "source": []
  },
  {
   "cell_type": "code",
   "execution_count": 11,
   "id": "8b1e005e",
   "metadata": {
    "execution": {
     "iopub.execute_input": "2022-01-11T07:49:11.877949Z",
     "iopub.status.busy": "2022-01-11T07:49:11.877323Z",
     "iopub.status.idle": "2022-01-11T07:49:11.899414Z",
     "shell.execute_reply": "2022-01-11T07:49:11.900026Z",
     "shell.execute_reply.started": "2022-01-11T07:13:10.500167Z"
    },
    "papermill": {
     "duration": 0.046878,
     "end_time": "2022-01-11T07:49:11.900221",
     "exception": false,
     "start_time": "2022-01-11T07:49:11.853343",
     "status": "completed"
    },
    "tags": []
   },
   "outputs": [
    {
     "data": {
      "text/html": [
       "<div>\n",
       "<style scoped>\n",
       "    .dataframe tbody tr th:only-of-type {\n",
       "        vertical-align: middle;\n",
       "    }\n",
       "\n",
       "    .dataframe tbody tr th {\n",
       "        vertical-align: top;\n",
       "    }\n",
       "\n",
       "    .dataframe thead tr th {\n",
       "        text-align: left;\n",
       "    }\n",
       "\n",
       "    .dataframe thead tr:last-of-type th {\n",
       "        text-align: right;\n",
       "    }\n",
       "</style>\n",
       "<table border=\"1\" class=\"dataframe\">\n",
       "  <thead>\n",
       "    <tr>\n",
       "      <th></th>\n",
       "      <th colspan=\"3\" halign=\"left\">Rainfall</th>\n",
       "    </tr>\n",
       "    <tr>\n",
       "      <th></th>\n",
       "      <th>mean</th>\n",
       "      <th>min</th>\n",
       "      <th>max</th>\n",
       "    </tr>\n",
       "    <tr>\n",
       "      <th>Region</th>\n",
       "      <th></th>\n",
       "      <th></th>\n",
       "      <th></th>\n",
       "    </tr>\n",
       "  </thead>\n",
       "  <tbody>\n",
       "    <tr>\n",
       "      <th>Abha</th>\n",
       "      <td>14</td>\n",
       "      <td>0</td>\n",
       "      <td>243</td>\n",
       "    </tr>\n",
       "    <tr>\n",
       "      <th>Al-Ahsa</th>\n",
       "      <td>7</td>\n",
       "      <td>0</td>\n",
       "      <td>83</td>\n",
       "    </tr>\n",
       "    <tr>\n",
       "      <th>Al-Baha</th>\n",
       "      <td>9</td>\n",
       "      <td>0</td>\n",
       "      <td>167</td>\n",
       "    </tr>\n",
       "    <tr>\n",
       "      <th>Al-Jouf</th>\n",
       "      <td>7</td>\n",
       "      <td>0</td>\n",
       "      <td>183</td>\n",
       "    </tr>\n",
       "    <tr>\n",
       "      <th>Arar</th>\n",
       "      <td>5</td>\n",
       "      <td>0</td>\n",
       "      <td>125</td>\n",
       "    </tr>\n",
       "    <tr>\n",
       "      <th>Bisha</th>\n",
       "      <td>6</td>\n",
       "      <td>0</td>\n",
       "      <td>155</td>\n",
       "    </tr>\n",
       "    <tr>\n",
       "      <th>Dhahran</th>\n",
       "      <td>7</td>\n",
       "      <td>0</td>\n",
       "      <td>93</td>\n",
       "    </tr>\n",
       "    <tr>\n",
       "      <th>Dmmam</th>\n",
       "      <td>7</td>\n",
       "      <td>0</td>\n",
       "      <td>78</td>\n",
       "    </tr>\n",
       "    <tr>\n",
       "      <th>Guriat</th>\n",
       "      <td>4</td>\n",
       "      <td>0</td>\n",
       "      <td>54</td>\n",
       "    </tr>\n",
       "    <tr>\n",
       "      <th>Hafr Elbatten</th>\n",
       "      <td>5</td>\n",
       "      <td>0</td>\n",
       "      <td>39</td>\n",
       "    </tr>\n",
       "    <tr>\n",
       "      <th>Hail</th>\n",
       "      <td>3</td>\n",
       "      <td>0</td>\n",
       "      <td>35</td>\n",
       "    </tr>\n",
       "    <tr>\n",
       "      <th>Jeddah</th>\n",
       "      <td>4</td>\n",
       "      <td>0</td>\n",
       "      <td>75</td>\n",
       "    </tr>\n",
       "    <tr>\n",
       "      <th>Jizan</th>\n",
       "      <td>10</td>\n",
       "      <td>0</td>\n",
       "      <td>104</td>\n",
       "    </tr>\n",
       "    <tr>\n",
       "      <th>Khamis Mushait</th>\n",
       "      <td>12</td>\n",
       "      <td>0</td>\n",
       "      <td>180</td>\n",
       "    </tr>\n",
       "    <tr>\n",
       "      <th>Madinah</th>\n",
       "      <td>4</td>\n",
       "      <td>0</td>\n",
       "      <td>56</td>\n",
       "    </tr>\n",
       "    <tr>\n",
       "      <th>Makkah</th>\n",
       "      <td>10</td>\n",
       "      <td>0</td>\n",
       "      <td>105</td>\n",
       "    </tr>\n",
       "    <tr>\n",
       "      <th>Najran</th>\n",
       "      <td>5</td>\n",
       "      <td>0</td>\n",
       "      <td>90</td>\n",
       "    </tr>\n",
       "    <tr>\n",
       "      <th>Qaisumah</th>\n",
       "      <td>8</td>\n",
       "      <td>0</td>\n",
       "      <td>149</td>\n",
       "    </tr>\n",
       "    <tr>\n",
       "      <th>Qassim</th>\n",
       "      <td>7</td>\n",
       "      <td>0</td>\n",
       "      <td>150</td>\n",
       "    </tr>\n",
       "    <tr>\n",
       "      <th>Rafha</th>\n",
       "      <td>6</td>\n",
       "      <td>0</td>\n",
       "      <td>87</td>\n",
       "    </tr>\n",
       "    <tr>\n",
       "      <th>Riyadh</th>\n",
       "      <td>7</td>\n",
       "      <td>0</td>\n",
       "      <td>70</td>\n",
       "    </tr>\n",
       "    <tr>\n",
       "      <th>Sharorah</th>\n",
       "      <td>2</td>\n",
       "      <td>0</td>\n",
       "      <td>90</td>\n",
       "    </tr>\n",
       "    <tr>\n",
       "      <th>Sulayel</th>\n",
       "      <td>4</td>\n",
       "      <td>0</td>\n",
       "      <td>49</td>\n",
       "    </tr>\n",
       "    <tr>\n",
       "      <th>Tabuk</th>\n",
       "      <td>3</td>\n",
       "      <td>0</td>\n",
       "      <td>75</td>\n",
       "    </tr>\n",
       "    <tr>\n",
       "      <th>Taif</th>\n",
       "      <td>10</td>\n",
       "      <td>0</td>\n",
       "      <td>81</td>\n",
       "    </tr>\n",
       "    <tr>\n",
       "      <th>Turaif</th>\n",
       "      <td>6</td>\n",
       "      <td>0</td>\n",
       "      <td>61</td>\n",
       "    </tr>\n",
       "    <tr>\n",
       "      <th>Wadi Aldawasir</th>\n",
       "      <td>1</td>\n",
       "      <td>0</td>\n",
       "      <td>47</td>\n",
       "    </tr>\n",
       "    <tr>\n",
       "      <th>Wejh</th>\n",
       "      <td>6</td>\n",
       "      <td>0</td>\n",
       "      <td>318</td>\n",
       "    </tr>\n",
       "    <tr>\n",
       "      <th>Yenbo</th>\n",
       "      <td>4</td>\n",
       "      <td>0</td>\n",
       "      <td>92</td>\n",
       "    </tr>\n",
       "  </tbody>\n",
       "</table>\n",
       "</div>"
      ],
      "text/plain": [
       "               Rainfall         \n",
       "                   mean min  max\n",
       "Region                          \n",
       "Abha                 14   0  243\n",
       "Al-Ahsa               7   0   83\n",
       "Al-Baha               9   0  167\n",
       "Al-Jouf               7   0  183\n",
       "Arar                  5   0  125\n",
       "Bisha                 6   0  155\n",
       "Dhahran               7   0   93\n",
       "Dmmam                 7   0   78\n",
       "Guriat                4   0   54\n",
       "Hafr Elbatten         5   0   39\n",
       "Hail                  3   0   35\n",
       "Jeddah                4   0   75\n",
       "Jizan                10   0  104\n",
       "Khamis Mushait       12   0  180\n",
       "Madinah               4   0   56\n",
       "Makkah               10   0  105\n",
       "Najran                5   0   90\n",
       "Qaisumah              8   0  149\n",
       "Qassim                7   0  150\n",
       "Rafha                 6   0   87\n",
       "Riyadh                7   0   70\n",
       "Sharorah              2   0   90\n",
       "Sulayel               4   0   49\n",
       "Tabuk                 3   0   75\n",
       "Taif                 10   0   81\n",
       "Turaif                6   0   61\n",
       "Wadi Aldawasir        1   0   47\n",
       "Wejh                  6   0  318\n",
       "Yenbo                 4   0   92"
      ]
     },
     "execution_count": 11,
     "metadata": {},
     "output_type": "execute_result"
    }
   ],
   "source": [
    "# using groupby function with aggregation to get mean, min and max values for temprature per city\n",
    "result = df.groupby('Region').agg({'Rainfall': ['mean', 'min', 'max']}).astype(int)\n",
    "  \n",
    "result"
   ]
  },
  {
   "cell_type": "markdown",
   "id": "04009439",
   "metadata": {
    "papermill": {
     "duration": 0.021889,
     "end_time": "2022-01-11T07:49:11.944449",
     "exception": false,
     "start_time": "2022-01-11T07:49:11.922560",
     "status": "completed"
    },
    "tags": []
   },
   "source": [
    "# Data Visualization"
   ]
  },
  {
   "cell_type": "code",
   "execution_count": 12,
   "id": "d456e922",
   "metadata": {
    "execution": {
     "iopub.execute_input": "2022-01-11T07:49:11.993232Z",
     "iopub.status.busy": "2022-01-11T07:49:11.992550Z",
     "iopub.status.idle": "2022-01-11T07:49:12.228365Z",
     "shell.execute_reply": "2022-01-11T07:49:12.227842Z",
     "shell.execute_reply.started": "2022-01-11T07:13:10.880915Z"
    },
    "papermill": {
     "duration": 0.261248,
     "end_time": "2022-01-11T07:49:12.228509",
     "exception": false,
     "start_time": "2022-01-11T07:49:11.967261",
     "status": "completed"
    },
    "tags": []
   },
   "outputs": [
    {
     "data": {
      "text/plain": [
       "<AxesSubplot:>"
      ]
     },
     "execution_count": 12,
     "metadata": {},
     "output_type": "execute_result"
    },
    {
     "data": {
      "image/png": "[encoded data removed]",
      "text/plain": [
       "<Figure size 432x288 with 1 Axes>"
      ]
     },
     "metadata": {
      "needs_background": "light"
     },
     "output_type": "display_data"
    }
   ],
   "source": [
    "# Creating box plot to check for extreme value\n",
    "\n",
    "df['Rainfall'].plot(kind='box')"
   ]
  },
  {
   "cell_type": "code",
   "execution_count": 13,
   "id": "5691f00a",
   "metadata": {
    "execution": {
     "iopub.execute_input": "2022-01-11T07:49:12.291022Z",
     "iopub.status.busy": "2022-01-11T07:49:12.281785Z",
     "iopub.status.idle": "2022-01-11T07:49:12.598270Z",
     "shell.execute_reply": "2022-01-11T07:49:12.597047Z",
     "shell.execute_reply.started": "2022-01-11T07:17:23.341005Z"
    },
    "papermill": {
     "duration": 0.346707,
     "end_time": "2022-01-11T07:49:12.598498",
     "exception": false,
     "start_time": "2022-01-11T07:49:12.251791",
     "status": "completed"
    },
    "tags": []
   },
   "outputs": [
    {
     "data": {
      "image/png": "[encoded data removed]",
      "text/plain": [
       "<Figure size 1440x504 with 1 Axes>"
      ]
     },
     "metadata": {
      "needs_background": "light"
     },
     "output_type": "display_data"
    }
   ],
   "source": [
    "plt.figure(figsize = [20,7])\n",
    "df.groupby('Month')['Rainfall'].mean().plot.bar()\n",
    "plt.title('Average Annually Rainfall in Saudi Arabia')\n",
    "plt.ylabel('Average Rainfall in mm')\n",
    "plt.xlabel('Year')\n",
    "plt.xticks(rotation=45)\n",
    "plt.show()"
   ]
  },
  {
   "cell_type": "code",
   "execution_count": 14,
   "id": "4a7b2bf3",
   "metadata": {
    "execution": {
     "iopub.execute_input": "2022-01-11T07:49:12.675454Z",
     "iopub.status.busy": "2022-01-11T07:49:12.671382Z",
     "iopub.status.idle": "2022-01-11T07:49:13.096209Z",
     "shell.execute_reply": "2022-01-11T07:49:13.096837Z",
     "shell.execute_reply.started": "2022-01-11T07:17:30.549074Z"
    },
    "papermill": {
     "duration": 0.465557,
     "end_time": "2022-01-11T07:49:13.097010",
     "exception": false,
     "start_time": "2022-01-11T07:49:12.631453",
     "status": "completed"
    },
    "tags": []
   },
   "outputs": [
    {
     "data": {
      "image/png": "[encoded data removed]",
      "text/plain": [
       "<Figure size 1440x576 with 1 Axes>"
      ]
     },
     "metadata": {
      "needs_background": "light"
     },
     "output_type": "display_data"
    }
   ],
   "source": [
    "plt.figure(figsize = [20,8])\n",
    "df.groupby('Year')['Rainfall'].mean()\n",
    "plt.title('Average Rainfall in Saudi Arabia per city')\n",
    "sns.barplot(data=df, x='Region', y='Rainfall', ci=None)\n",
    "plt.xlabel('Region')\n",
    "plt.ylabel('Average Rainfall in mm')\n",
    "plt.xticks(rotation=45)\n",
    "plt.show()\n"
   ]
  },
  {
   "cell_type": "code",
   "execution_count": 15,
   "id": "a0184079",
   "metadata": {
    "execution": {
     "iopub.execute_input": "2022-01-11T07:49:13.156668Z",
     "iopub.status.busy": "2022-01-11T07:49:13.151851Z",
     "iopub.status.idle": "2022-01-11T07:49:13.441964Z",
     "shell.execute_reply": "2022-01-11T07:49:13.442474Z",
     "shell.execute_reply.started": "2022-01-11T07:17:40.021567Z"
    },
    "papermill": {
     "duration": 0.319808,
     "end_time": "2022-01-11T07:49:13.442646",
     "exception": false,
     "start_time": "2022-01-11T07:49:13.122838",
     "status": "completed"
    },
    "tags": []
   },
   "outputs": [
    {
     "data": {
      "image/png": "[encoded data removed]",
      "text/plain": [
       "<Figure size 936x504 with 1 Axes>"
      ]
     },
     "metadata": {
      "needs_background": "light"
     },
     "output_type": "display_data"
    }
   ],
   "source": [
    "# Plot rainfall data over the years\n",
    "\n",
    "import matplotlib.pyplot as plt\n",
    "plt.figure(figsize=(13, 7))\n",
    "plt.plot(df[['Date', 'Rainfall']].groupby(by = 'Date').sum())\n",
    "plt.title('Total Rainfall in KSA over 10 years', fontsize=25)\n",
    "plt.ylabel('Total Rainfall in mm', fontsize=20)\n",
    "plt.xlabel('Year', fontsize=20)\n",
    "plt.grid(False)\n",
    "plt.xticks(rotation=45)\n",
    "plt.xticks(fontsize=13)\n",
    "plt.yticks(fontsize=13)\n",
    "plt.show()\n"
   ]
  },
  {
   "cell_type": "markdown",
   "id": "94fb8d26",
   "metadata": {
    "papermill": {
     "duration": 0.028183,
     "end_time": "2022-01-11T07:49:13.498873",
     "exception": false,
     "start_time": "2022-01-11T07:49:13.470690",
     "status": "completed"
    },
    "tags": []
   },
   "source": [
    "Correlation matrix helps to identify the relationship between variables. When the value closer to (1) means there is strong positve linear relationship. Minus sign (-) refers to negative relationship (as one variable increases, the other one decreases)."
   ]
  },
  {
   "cell_type": "code",
   "execution_count": 16,
   "id": "2a6ba85e",
   "metadata": {
    "execution": {
     "iopub.execute_input": "2022-01-11T07:49:13.558649Z",
     "iopub.status.busy": "2022-01-11T07:49:13.557918Z",
     "iopub.status.idle": "2022-01-11T07:49:13.850944Z",
     "shell.execute_reply": "2022-01-11T07:49:13.851427Z",
     "shell.execute_reply.started": "2022-01-11T07:17:42.660634Z"
    },
    "papermill": {
     "duration": 0.324309,
     "end_time": "2022-01-11T07:49:13.851606",
     "exception": false,
     "start_time": "2022-01-11T07:49:13.527297",
     "status": "completed"
    },
    "tags": []
   },
   "outputs": [
    {
     "data": {
      "text/plain": [
       "<AxesSubplot:>"
      ]
     },
     "execution_count": 16,
     "metadata": {},
     "output_type": "execute_result"
    },
    {
     "data": {
      "image/png": "[encoded data removed]",
      "text/plain": [
       "<Figure size 1152x576 with 2 Axes>"
      ]
     },
     "metadata": {
      "needs_background": "light"
     },
     "output_type": "display_data"
    }
   ],
   "source": [
    "# calculate correlation matrix\n",
    "corr = df.corr() # plot the heatmap\n",
    "plt.figure(figsize=(16,8))\n",
    "sns.heatmap(corr, annot=True, cmap=sns.diverging_palette(220, 20, as_cmap=True))"
   ]
  },
  {
   "cell_type": "markdown",
   "id": "354ed082",
   "metadata": {
    "papermill": {
     "duration": 0.028685,
     "end_time": "2022-01-11T07:49:13.909516",
     "exception": false,
     "start_time": "2022-01-11T07:49:13.880831",
     "status": "completed"
    },
    "tags": []
   },
   "source": [
    "## Thank you for reading."
   ]
  },
  {
   "cell_type": "code",
   "execution_count": null,
   "id": "b23fcede",
   "metadata": {
    "papermill": {
     "duration": 0.028703,
     "end_time": "2022-01-11T07:49:13.967314",
     "exception": false,
     "start_time": "2022-01-11T07:49:13.938611",
     "status": "completed"
    },
    "tags": []
   },
   "outputs": [],
   "source": []
  }
 ],
 "metadata": {
  "kernelspec": {
   "display_name": "Python 3",
   "language": "python",
   "name": "python3"
  },
  "language_info": {
   "codemirror_mode": {
    "name": "ipython",
    "version": 3
   },
   "file_extension": ".py",
   "mimetype": "text/x-python",
   "name": "python",
   "nbconvert_exporter": "python",
   "pygments_lexer": "ipython3",
   "version": "3.7.12"
  },
  "papermill": {
   "default_parameters": {},
   "duration": 14.916095,
   "end_time": "2022-01-11T07:49:14.706666",
   "environment_variables": {},
   "exception": null,
   "input_path": "__notebook__.ipynb",
   "output_path": "__notebook__.ipynb",
   "parameters": {},
   "start_time": "2022-01-11T07:48:59.790571",
   "version": "2.3.3"
  }
 },
 "nbformat": 4,
 "nbformat_minor": 5
}
